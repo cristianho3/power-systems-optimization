{
 "cells": [
  {
   "cell_type": "code",
   "execution_count": 1,
   "metadata": {},
   "outputs": [],
   "source": [
    "using JuMP\n",
    "using Clp\n",
    "using DataFrames\n",
    "using CSV"
   ]
  },
  {
   "cell_type": "code",
   "execution_count": 2,
   "metadata": {},
   "outputs": [],
   "source": [
    "hw1_model = Model(Clp.Optimizer);"
   ]
  },
  {
   "cell_type": "code",
   "execution_count": 3,
   "metadata": {},
   "outputs": [
    {
     "data": {
      "text/latex": [
       "$$ x $$"
      ],
      "text/plain": [
       "x"
      ]
     },
     "execution_count": 3,
     "metadata": {},
     "output_type": "execute_result"
    }
   ],
   "source": [
    "@variable(hw1_model, 10 >= x >= 2) "
   ]
  },
  {
   "cell_type": "code",
   "execution_count": 4,
   "metadata": {},
   "outputs": [
    {
     "data": {
      "text/latex": [
       "$$ y $$"
      ],
      "text/plain": [
       "y"
      ]
     },
     "execution_count": 4,
     "metadata": {},
     "output_type": "execute_result"
    }
   ],
   "source": [
    "@variable(hw1_model, y >= 0) "
   ]
  },
  {
   "cell_type": "code",
   "execution_count": 5,
   "metadata": {},
   "outputs": [
    {
     "data": {
      "text/latex": [
       "constraint1 : $ 2 x + 5 y \\leq 50.0 $"
      ],
      "text/plain": [
       "constraint1 : 2 x + 5 y <= 50.0"
      ]
     },
     "execution_count": 5,
     "metadata": {},
     "output_type": "execute_result"
    }
   ],
   "source": [
    "@constraint(hw1_model, constraint1, 2x + 5y <= 50)"
   ]
  },
  {
   "cell_type": "code",
   "execution_count": 6,
   "metadata": {},
   "outputs": [
    {
     "data": {
      "text/latex": [
       "constraint2 : $ 3 x + y \\leq 30.0 $"
      ],
      "text/plain": [
       "constraint2 : 3 x + y <= 30.0"
      ]
     },
     "execution_count": 6,
     "metadata": {},
     "output_type": "execute_result"
    }
   ],
   "source": [
    "@constraint(hw1_model, constraint2, 3x + y <= 30)"
   ]
  },
  {
   "cell_type": "code",
   "execution_count": 7,
   "metadata": {},
   "outputs": [
    {
     "data": {
      "text/latex": [
       "$$ 10 x + 15 y $$"
      ],
      "text/plain": [
       "10 x + 15 y"
      ]
     },
     "execution_count": 7,
     "metadata": {},
     "output_type": "execute_result"
    }
   ],
   "source": [
    "@objective(hw1_model, Max, 10x + 15y)"
   ]
  },
  {
   "cell_type": "code",
   "execution_count": 8,
   "metadata": {},
   "outputs": [
    {
     "name": "stdout",
     "output_type": "stream",
     "text": [
      "Coin0506I Presolve 2 (0) rows, 2 (0) columns and 4 (0) elements\n",
      "Clp0006I 0  Obj 20 Dual inf 25 (2)\n",
      "Clp0006I 2  Obj 180.76923\n",
      "Clp0000I Optimal - objective value 180.76923\n",
      "Clp0032I Optimal objective 180.7692308 - 2 iterations time 0.002\n"
     ]
    }
   ],
   "source": [
    "optimize!(hw1_model)"
   ]
  },
  {
   "cell_type": "code",
   "execution_count": 9,
   "metadata": {},
   "outputs": [
    {
     "data": {
      "text/plain": [
       "180.76923076923077"
      ]
     },
     "execution_count": 9,
     "metadata": {},
     "output_type": "execute_result"
    }
   ],
   "source": [
    "obj_value = value.(10x + 15y)"
   ]
  },
  {
   "cell_type": "code",
   "execution_count": 10,
   "metadata": {},
   "outputs": [
    {
     "data": {
      "text/plain": [
       "7.692307692307692"
      ]
     },
     "execution_count": 10,
     "metadata": {},
     "output_type": "execute_result"
    }
   ],
   "source": [
    "value.(x)"
   ]
  },
  {
   "cell_type": "code",
   "execution_count": 11,
   "metadata": {},
   "outputs": [
    {
     "data": {
      "text/plain": [
       "6.923076923076923"
      ]
     },
     "execution_count": 11,
     "metadata": {},
     "output_type": "execute_result"
    }
   ],
   "source": [
    "value.(y)"
   ]
  },
  {
   "cell_type": "code",
   "execution_count": 14,
   "metadata": {},
   "outputs": [
    {
     "data": {
      "text/plain": [
       "50.0"
      ]
     },
     "execution_count": 14,
     "metadata": {},
     "output_type": "execute_result"
    }
   ],
   "source": [
    "value.(2x + 5y)"
   ]
  },
  {
   "cell_type": "code",
   "execution_count": 16,
   "metadata": {},
   "outputs": [
    {
     "data": {
      "text/plain": [
       "29.999999999999996"
      ]
     },
     "execution_count": 16,
     "metadata": {},
     "output_type": "execute_result"
    }
   ],
   "source": [
    "value.(3x + y)"
   ]
  },
  {
   "cell_type": "code",
   "execution_count": 20,
   "metadata": {},
   "outputs": [
    {
     "ename": "LoadError",
     "evalue": "ArgumentError: ModelLike of type Clp.Optimizer does not support accessing the attribute MathOptInterface.ConstraintBasisStatus(1)",
     "output_type": "error",
     "traceback": [
      "ArgumentError: ModelLike of type Clp.Optimizer does not support accessing the attribute MathOptInterface.ConstraintBasisStatus(1)",
      "",
      "Stacktrace:",
      " [1] get_fallback(::Clp.Optimizer, ::MathOptInterface.ConstraintBasisStatus, ::MathOptInterface.ConstraintIndex{MathOptInterface.ScalarAffineFunction{Float64},MathOptInterface.LessThan{Float64}}) at C:\\Users\\ccort\\.julia\\packages\\MathOptInterface\\k7UUH\\src\\attributes.jl:274",
      " [2] get(::Clp.Optimizer, ::MathOptInterface.ConstraintBasisStatus, ::MathOptInterface.ConstraintIndex{MathOptInterface.ScalarAffineFunction{Float64},MathOptInterface.LessThan{Float64}}) at C:\\Users\\ccort\\.julia\\packages\\MathOptInterface\\k7UUH\\src\\attributes.jl:272",
      " [3] get(::MathOptInterface.Utilities.CachingOptimizer{Clp.Optimizer,MathOptInterface.Utilities.UniversalFallback{MathOptInterface.Utilities.Model{Float64}}}, ::MathOptInterface.ConstraintBasisStatus, ::MathOptInterface.ConstraintIndex{MathOptInterface.ScalarAffineFunction{Float64},MathOptInterface.LessThan{Float64}}) at C:\\Users\\ccort\\.julia\\packages\\MathOptInterface\\k7UUH\\src\\Utilities\\cachingoptimizer.jl:605",
      " [4] get(::MathOptInterface.Bridges.LazyBridgeOptimizer{MathOptInterface.Utilities.CachingOptimizer{Clp.Optimizer,MathOptInterface.Utilities.UniversalFallback{MathOptInterface.Utilities.Model{Float64}}}}, ::MathOptInterface.ConstraintBasisStatus, ::MathOptInterface.ConstraintIndex{MathOptInterface.ScalarAffineFunction{Float64},MathOptInterface.LessThan{Float64}}) at C:\\Users\\ccort\\.julia\\packages\\MathOptInterface\\k7UUH\\src\\Bridges\\bridge_optimizer.jl:922",
      " [5] get(::MathOptInterface.Utilities.CachingOptimizer{MathOptInterface.AbstractOptimizer,MathOptInterface.Utilities.UniversalFallback{MathOptInterface.Utilities.Model{Float64}}}, ::MathOptInterface.ConstraintBasisStatus, ::MathOptInterface.ConstraintIndex{MathOptInterface.ScalarAffineFunction{Float64},MathOptInterface.LessThan{Float64}}) at C:\\Users\\ccort\\.julia\\packages\\MathOptInterface\\k7UUH\\src\\Utilities\\cachingoptimizer.jl:605",
      " [6] _moi_get_result(::MathOptInterface.Utilities.CachingOptimizer{MathOptInterface.AbstractOptimizer,MathOptInterface.Utilities.UniversalFallback{MathOptInterface.Utilities.Model{Float64}}}, ::MathOptInterface.ConstraintBasisStatus, ::Vararg{Any,N} where N) at C:\\Users\\ccort\\.julia\\packages\\JuMP\\qhoVb\\src\\JuMP.jl:848",
      " [7] get(::Model, ::MathOptInterface.ConstraintBasisStatus, ::ConstraintRef{Model,MathOptInterface.ConstraintIndex{MathOptInterface.ScalarAffineFunction{Float64},MathOptInterface.LessThan{Float64}},ScalarShape}) at C:\\Users\\ccort\\.julia\\packages\\JuMP\\qhoVb\\src\\JuMP.jl:887",
      " [8] _std_basis_status(::Model) at C:\\Users\\ccort\\.julia\\packages\\JuMP\\qhoVb\\src\\lp_sensitivity.jl:152",
      " [9] lp_objective_perturbation_range(::VariableRef; optimality_tolerance::Float64) at C:\\Users\\ccort\\.julia\\packages\\JuMP\\qhoVb\\src\\lp_sensitivity.jl:305",
      " [10] lp_objective_perturbation_range(::VariableRef) at C:\\Users\\ccort\\.julia\\packages\\JuMP\\qhoVb\\src\\lp_sensitivity.jl:278",
      " [11] top-level scope at In[20]:1",
      " [12] include_string(::Function, ::Module, ::String, ::String) at .\\loading.jl:1091",
      " [13] execute_code(::String, ::String) at C:\\Users\\ccort\\.julia\\packages\\IJulia\\rWZ9e\\src\\execute_request.jl:27",
      " [14] execute_request(::ZMQ.Socket, ::IJulia.Msg) at C:\\Users\\ccort\\.julia\\packages\\IJulia\\rWZ9e\\src\\execute_request.jl:86",
      " [15] #invokelatest#1 at .\\essentials.jl:710 [inlined]",
      " [16] invokelatest at .\\essentials.jl:709 [inlined]",
      " [17] eventloop(::ZMQ.Socket) at C:\\Users\\ccort\\.julia\\packages\\IJulia\\rWZ9e\\src\\eventloop.jl:8",
      " [18] (::IJulia.var\"#15#18\")() at .\\task.jl:356"
     ]
    }
   ],
   "source": [
    "lp_objective_perturbation_range(y)"
   ]
  },
  {
   "cell_type": "code",
   "execution_count": null,
   "metadata": {},
   "outputs": [],
   "source": []
  }
 ],
 "metadata": {
  "kernelspec": {
   "display_name": "Julia 1.5.2",
   "language": "julia",
   "name": "julia-1.5"
  },
  "language_info": {
   "file_extension": ".jl",
   "mimetype": "application/julia",
   "name": "julia",
   "version": "1.5.2"
  }
 },
 "nbformat": 4,
 "nbformat_minor": 4
}
